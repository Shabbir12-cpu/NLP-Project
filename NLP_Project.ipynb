{
 "cells": [
  {
   "cell_type": "code",
   "execution_count": null,
   "metadata": {
    "colab": {
     "base_uri": "https://localhost:8080/"
    },
    "id": "wrxovB7CBhwD",
    "outputId": "9a54ba36-15d7-42e5-89ea-fa6f3d8d4a29"
   },
   "outputs": [],
   "source": [
    "import kagglehub\n",
    "\n",
    "# Download latest version\n",
    "path = kagglehub.dataset_download(\"starblasters8/human-vs-llm-text-corpus\")\n",
    "\n",
    "print(\"Path to dataset files:\", path)"
   ]
  },
  {
   "cell_type": "code",
   "execution_count": null,
   "metadata": {
    "colab": {
     "base_uri": "https://localhost:8080/"
    },
    "id": "nTRkQAG3vMMQ",
    "outputId": "d9f2edbf-83d9-4e73-d202-70c0086f3461"
   },
   "outputs": [],
   "source": [
    "import os\n",
    "import shutil\n",
    "\n",
    "os.makedirs(\"/root/.kaggle\", exist_ok=True)\n",
    "\n",
    "shutil.copy(\"/content/kaggle (1).json\", \"/root/.kaggle/kaggle.json\")\n",
    "\n",
    "# Set correct permissions\n",
    "os.chmod(\"/root/.kaggle/kaggle.json\", 0o600)\n",
    "\n",
    "# Now download the dataset from Kaggle\n",
    "!kaggle datasets download -d starblasters8/human-vs-llm-text-corpus --unzip\n",
    "\n",
    "# Verify the files\n",
    "print(\"Downloaded files:\", os.listdir())"
   ]
  },
  {
   "cell_type": "code",
   "execution_count": null,
   "metadata": {
    "colab": {
     "base_uri": "https://localhost:8080/",
     "height": 206
    },
    "id": "BgHuc9NUNf41",
    "outputId": "1f495a39-01db-4df2-dc8d-52ccbec54098"
   },
   "outputs": [],
   "source": [
    "import pandas as pd\n",
    "\n",
    "# Load the CSV file from Google Drive\n",
    "df = pd.read_csv('/content/drive/MyDrive/Data/data (1).csv')\n",
    "df.head()"
   ]
  },
  {
   "cell_type": "code",
   "execution_count": null,
   "metadata": {
    "colab": {
     "base_uri": "https://localhost:8080/"
    },
    "id": "9AfIcRAXyQAc",
    "outputId": "0f281733-61e9-433d-a95a-45164a7ce3f8"
   },
   "outputs": [],
   "source": [
    "df.info()"
   ]
  },
  {
   "cell_type": "code",
   "execution_count": null,
   "metadata": {
    "colab": {
     "base_uri": "https://localhost:8080/"
    },
    "id": "AKX664HMyeyX",
    "outputId": "93e91ae6-bdc7-44c4-bf22-19464198e367"
   },
   "outputs": [],
   "source": [
    "# Display all column names\n",
    "print(\"Dataset Columns:\", df.columns)"
   ]
  },
  {
   "cell_type": "code",
   "execution_count": null,
   "metadata": {
    "colab": {
     "base_uri": "https://localhost:8080/",
     "height": 489
    },
    "id": "5TnFZ5Q5yrmN",
    "outputId": "273a585c-dad4-4ff8-a695-65f2dc13366e"
   },
   "outputs": [],
   "source": [
    "df['source'].value_counts()"
   ]
  },
  {
   "cell_type": "code",
   "execution_count": null,
   "metadata": {
    "id": "9Vsvun5Oy_YU"
   },
   "outputs": [],
   "source": [
    "df.rename(columns={'source': 'label'}, inplace=True)"
   ]
  },
  {
   "cell_type": "code",
   "execution_count": null,
   "metadata": {
    "colab": {
     "base_uri": "https://localhost:8080/"
    },
    "id": "uAGBJ66kzDQ3",
    "outputId": "a0645150-b6fe-48e8-d773-64071015c07a"
   },
   "outputs": [],
   "source": [
    "# Check for missing values\n",
    "print(df.isnull().sum())\n",
    "\n",
    "# Show basic statistics\n",
    "print(df.describe())"
   ]
  },
  {
   "cell_type": "code",
   "execution_count": null,
   "metadata": {
    "colab": {
     "base_uri": "https://localhost:8080/",
     "height": 489
    },
    "id": "sg985AkMLYdn",
    "outputId": "ee73a72e-c1d6-4aa3-a11f-ee61681c20ed"
   },
   "outputs": [],
   "source": [
    "df.rename(columns={'source': 'label'}, inplace=True)\n",
    "\n",
    "# Balance the sample: 1,000 human + 1,000 LLM examples\n",
    "df_human = df[df['label'].str.lower() == 'human'].sample(n=1000, random_state=42)\n",
    "df_llm = df[df['label'].str.lower() != 'human'].sample(n=1000, random_state=42)\n",
    "\n",
    "# Combine and shuffle\n",
    "subset_df = pd.concat([df_human, df_llm]).sample(frac=1, random_state=42).reset_index(drop=True)\n",
    "\n",
    "# Optional: Save subset for reuse\n",
    "subset_df.to_csv('/content/drive/MyDrive/llm_human_subset.csv', index=False)\n",
    "\n",
    "# Check balance\n",
    "subset_df['label'].value_counts()"
   ]
  },
  {
   "cell_type": "code",
   "execution_count": null,
   "metadata": {
    "colab": {
     "base_uri": "https://localhost:8080/",
     "height": 206
    },
    "id": "le0Xe5F7V8P2",
    "outputId": "f9dbeba8-106e-4d76-cb6a-96f321138b76"
   },
   "outputs": [],
   "source": [
    "subset_df.head()"
   ]
  },
  {
   "cell_type": "code",
   "execution_count": null,
   "metadata": {
    "id": "5ZzIP8mZNCG6"
   },
   "outputs": [],
   "source": [
    "# Load your balanced subset\n",
    "df = pd.read_csv('/content/drive/MyDrive/llm_human_subset.csv')\n",
    "df.rename(columns={'source': 'label'}, inplace=True)  # in case not already renamed\n",
    "\n",
    "# Create binary label: 1 for human, 0 for LLM\n",
    "df['binary_label'] = df['label'].apply(lambda x: 1 if x.lower() == 'human' else 0)"
   ]
  },
  {
   "cell_type": "code",
   "execution_count": null,
   "metadata": {
    "colab": {
     "base_uri": "https://localhost:8080/"
    },
    "id": "svT6M1BYQlSW",
    "outputId": "b90d9760-2618-4225-8dd3-281cc4ba8242"
   },
   "outputs": [],
   "source": [
    "# Step 0: Install spaCy and English language model\n",
    "!pip install spacy\n",
    "!python -m spacy download en_core_web_sm"
   ]
  },
  {
   "cell_type": "code",
   "execution_count": null,
   "metadata": {
    "id": "46JkEycMR9MM"
   },
   "outputs": [],
   "source": [
    "import spacy\n",
    "nlp = spacy.load(\"en_core_web_sm\")"
   ]
  },
  {
   "cell_type": "code",
   "execution_count": null,
   "metadata": {
    "colab": {
     "base_uri": "https://localhost:8080/"
    },
    "id": "z8WDatJ6SLux",
    "outputId": "921911fe-736d-42a7-ba3a-7aa3f017abc8"
   },
   "outputs": [],
   "source": [
    "def extract_features(text):\n",
    "    doc = nlp(text)\n",
    "    words = [token.text for token in doc if token.is_alpha]\n",
    "    word_count = len(words)\n",
    "    sentence_count = len(list(doc.sents))\n",
    "    unique_words = len(set(words))\n",
    "    char_count = sum(len(word) for word in words)\n",
    "\n",
    "    return pd.Series({\n",
    "        'avg_word_length': char_count / word_count if word_count else 0,\n",
    "        'lexical_diversity': unique_words / word_count if word_count else 0,\n",
    "        'avg_sentence_length': word_count / sentence_count if sentence_count else 0\n",
    "    })\n",
    "\n",
    "# Apply to all rows\n",
    "feature_df = df['text'].apply(extract_features)\n",
    "\n",
    "# Add original columns for modeling\n",
    "feature_df['text_length'] = df['text_length'] if 'text_length' in df.columns else df['text'].apply(len)\n",
    "feature_df['word_count'] = df['word_count'] if 'word_count' in df.columns else df['text'].apply(lambda x: len(x.split()))\n",
    "feature_df['label'] = df['binary_label']\n",
    "\n",
    "from tqdm import tqdm\n",
    "tqdm.pandas()\n",
    "feature_df = df['text'].progress_apply(extract_features)"
   ]
  },
  {
   "cell_type": "code",
   "execution_count": null,
   "metadata": {
    "id": "GYDt-mEgRThL"
   },
   "outputs": [],
   "source": [
    "# This adds the correct label column for modeling\n",
    "feature_df['label'] = df['binary_label']"
   ]
  },
  {
   "cell_type": "code",
   "execution_count": null,
   "metadata": {
    "id": "XK_P9LtjRUcx"
   },
   "outputs": [],
   "source": [
    "from sklearn.model_selection import train_test_split\n",
    "\n",
    "X = feature_df.drop(columns=['label'])  # only feature columns\n",
    "y = feature_df['label']                 # target labels\n",
    "\n",
    "X_train, X_test, y_train, y_test = train_test_split(\n",
    "    X, y, test_size=0.2, random_state=42\n",
    ")"
   ]
  },
  {
   "cell_type": "code",
   "execution_count": null,
   "metadata": {
    "colab": {
     "base_uri": "https://localhost:8080/"
    },
    "id": "SIe9W8U4RWgN",
    "outputId": "70aa7d82-a71d-4beb-9e82-ea1c9774fe7f"
   },
   "outputs": [],
   "source": [
    "from sklearn.ensemble import RandomForestClassifier\n",
    "from sklearn.metrics import classification_report, confusion_matrix\n",
    "\n",
    "# Train model\n",
    "model = RandomForestClassifier(random_state=42)\n",
    "model.fit(X_train, y_train)\n",
    "\n",
    "# Predict and evaluate\n",
    "y_pred = model.predict(X_test)\n",
    "print(\"Classification Report:\\n\", classification_report(y_test, y_pred))\n",
    "print(\"Confusion Matrix:\\n\", confusion_matrix(y_test, y_pred))"
   ]
  },
  {
   "cell_type": "code",
   "execution_count": null,
   "metadata": {
    "colab": {
     "base_uri": "https://localhost:8080/",
     "height": 507
    },
    "id": "l_6ijVEBReqB",
    "outputId": "7eec01dc-7a9b-4dc0-9fc9-a7bb64dda921"
   },
   "outputs": [],
   "source": [
    "import matplotlib.pyplot as plt\n",
    "import seaborn as sns\n",
    "\n",
    "# Plot importance\n",
    "importance = model.feature_importances_\n",
    "features = X.columns\n",
    "\n",
    "plt.figure(figsize=(8, 5))\n",
    "sns.barplot(x=importance, y=features)\n",
    "plt.title(\"Feature Importance\")\n",
    "plt.xlabel(\"Importance\")\n",
    "plt.ylabel(\"Feature\")\n",
    "plt.tight_layout()\n",
    "plt.show()"
   ]
  },
  {
   "cell_type": "code",
   "execution_count": null,
   "metadata": {
    "colab": {
     "base_uri": "https://localhost:8080/"
    },
    "id": "uU38ZgvpRlmF",
    "outputId": "8542a66a-4802-443f-bcf4-290829c8255f"
   },
   "outputs": [],
   "source": [
    "import numpy as np\n",
    "# Instead of sampling 100 rows\n",
    "sample_df = df.copy()  # Use all 1000 rows from your subset\n",
    "sample_df['true_label'] = sample_df['binary_label']\n",
    "\n",
    "# Simulate human annotations (80% accurate)\n",
    "np.random.seed(42)\n",
    "sample_df['human_judgment'] = sample_df['true_label'].apply(\n",
    "    lambda x: x if np.random.rand() < 0.8 else 1 - x\n",
    ")\n",
    "\n",
    "# Step 1: Simulate features using your function\n",
    "sample_features = sample_df['text'].apply(extract_features)\n",
    "\n",
    "# Step 2: Add the original columns before prediction (IN the same DataFrame)\n",
    "sample_features['text_length'] = sample_df['text'].apply(len)\n",
    "sample_features['word_count'] = sample_df['text'].apply(lambda x: len(x.split()))\n",
    "\n",
    "# Reorder to match training feature order\n",
    "sample_features = sample_features[X.columns]  # X from earlier train-test split\n",
    "\n",
    "# Step 3: Predict using trained model\n",
    "sample_df['model_prediction'] = model.predict(sample_features)\n",
    "# Evaluation\n",
    "from sklearn.metrics import accuracy_score, cohen_kappa_score, confusion_matrix\n",
    "\n",
    "print(\"Accuracy - Human vs. True:\", accuracy_score(sample_df['true_label'], sample_df['human_judgment']))\n",
    "print(\"Accuracy - Model vs. True:\", accuracy_score(sample_df['true_label'], sample_df['model_prediction']))\n",
    "print(\"Agreement - Human vs. Model (Cohen's Kappa):\", cohen_kappa_score(sample_df['human_judgment'], sample_df['model_prediction']))\n",
    "print(\"Confusion Matrix - Human vs. Model:\")\n",
    "print(confusion_matrix(sample_df['human_judgment'], sample_df['model_prediction']))"
   ]
  },
  {
   "cell_type": "code",
   "execution_count": null,
   "metadata": {
    "colab": {
     "base_uri": "https://localhost:8080/"
    },
    "id": "YMcCvwseYJgl",
    "outputId": "6ab90528-c59b-45a1-f056-5fb7f5f3cef1"
   },
   "outputs": [],
   "source": [
    "# Step 1: Filter disagreements\n",
    "disagreements = sample_df[sample_df['human_judgment'] != sample_df['model_prediction']]\n",
    "\n",
    "# Step 2: Sample a few to inspect\n",
    "example_rows = disagreements.sample(n=5, random_state=42)\n",
    "\n",
    "# Step 3: Display key info\n",
    "for idx, row in example_rows.iterrows():\n",
    "    print(f\"\\n🔹 Example {idx}\")\n",
    "    print(f\"True Label: {'Human' if row['true_label'] == 1 else 'LLM'}\")\n",
    "    print(f\"Human Annotator Guess: {'Human' if row['human_judgment'] == 1 else 'LLM'}\")\n",
    "    print(f\"Model Prediction: {'Human' if row['model_prediction'] == 1 else 'LLM'}\")\n",
    "    print(\"Text Preview:\")\n",
    "    print(row['text'][:500] + '...')  # print first 500 characters only"
   ]
  },
  {
   "cell_type": "code",
   "execution_count": null,
   "metadata": {
    "colab": {
     "base_uri": "https://localhost:8080/"
    },
    "id": "3qQ26-A3KfeK",
    "outputId": "a8bed8fe-1491-4e12-e8ec-ab185850b435"
   },
   "outputs": [],
   "source": [
    "!pip install textstat"
   ]
  },
  {
   "cell_type": "code",
   "execution_count": null,
   "metadata": {
    "id": "2cCaSZyeLXas"
   },
   "outputs": [],
   "source": [
    "import textstat\n",
    "from textblob import TextBlob\n",
    "import re\n",
    "\n",
    "def analyze_text_features(text):\n",
    "    # Readability score\n",
    "    readability = textstat.flesch_reading_ease(text)\n",
    "\n",
    "    # Sentiment polarity\n",
    "    sentiment = TextBlob(text).sentiment.polarity\n",
    "\n",
    "    # Lexical diversity (using simple .split() to avoid NLTK)\n",
    "    words = text.split()\n",
    "    lexical_diversity = len(set(words)) / len(words) if words else 0\n",
    "\n",
    "    # Pronoun count\n",
    "    pronouns = re.findall(r'\\b(I|we|you|he|she|they|me|us|him|her|them)\\b', text, flags=re.IGNORECASE)\n",
    "    pronoun_count = len(pronouns)\n",
    "\n",
    "    return {\n",
    "        'readability': readability,\n",
    "        'sentiment': sentiment,\n",
    "        'lexical_diversity': lexical_diversity,\n",
    "        'pronoun_count': pronoun_count\n",
    "    }"
   ]
  },
  {
   "cell_type": "code",
   "execution_count": null,
   "metadata": {
    "colab": {
     "base_uri": "https://localhost:8080/"
    },
    "id": "5Pfg-om4LZf2",
    "outputId": "638dca14-3a18-4e27-e584-70cab6af4d00"
   },
   "outputs": [],
   "source": [
    "# Clean and ensure text is string\n",
    "disagreements['text'] = disagreements['text'].astype(str)\n",
    "\n",
    "# Analyze features\n",
    "disagreement_features = disagreements['text'].apply(analyze_text_features)\n",
    "\n",
    "# Combine\n",
    "disagreement_analysis = pd.concat([disagreements.reset_index(drop=True), disagreement_features.apply(pd.Series)], axis=1)\n",
    "\n",
    "# Display sample with error-proof preview\n",
    "for idx, row in disagreement_analysis.sample(n=5, random_state=42).iterrows():\n",
    "    text_preview = str(row['text'])[:500] + '...' if pd.notnull(row['text']) else \"[Missing Text]\"\n",
    "\n",
    "    print(f\"\\n🔍 Example {idx}\")\n",
    "    print(f\"True Label: {'Human' if row['true_label'] == 1 else 'LLM'}\")\n",
    "    print(f\"Human Annotator Guess: {'Human' if row['human_judgment'] == 1 else 'LLM'}\")\n",
    "    print(f\"Model Prediction: {'Human' if row['model_prediction'] == 1 else 'LLM'}\")\n",
    "    print(\"Text Preview:\")\n",
    "    print(text_preview)\n",
    "    print(f\"\\n🧠 Readability Score: {row['readability']}\")\n",
    "    print(f\"💬 Sentiment Polarity: {row['sentiment']:.2f}\")\n",
    "    print(f\"🧍 Pronouns Used: {row['pronoun_count']}\")\n",
    "    print(f\"🧠 Lexical Diversity: {row['lexical_diversity']:.2f}\")"
   ]
  },
  {
   "cell_type": "code",
   "execution_count": null,
   "metadata": {
    "id": "oCwkHa_yOEGo"
   },
   "outputs": [],
   "source": [
    "# Drop rows where any feature is NaN\n",
    "feature_cols = ['readability', 'sentiment', 'pronoun_count', 'lexical_diversity']\n",
    "disagreement_clean = disagreement_analysis.dropna(subset=feature_cols).copy()"
   ]
  },
  {
   "cell_type": "code",
   "execution_count": null,
   "metadata": {
    "colab": {
     "base_uri": "https://localhost:8080/",
     "height": 365
    },
    "id": "Yu-mepu4OFMb",
    "outputId": "51676e2f-5f1c-4f50-f8f9-681c5ab1b826"
   },
   "outputs": [],
   "source": [
    "import seaborn as sns\n",
    "import matplotlib.pyplot as plt\n",
    "\n",
    "# Melted dataframe already prepared\n",
    "melted = disagreement_clean.melt(id_vars='true_label', value_vars=feature_cols)\n",
    "melted['true_label'] = melted['true_label'].map({0: 'LLM', 1: 'Human'})\n",
    "\n",
    "# Plot with separate scales\n",
    "g = sns.catplot(\n",
    "    data=melted, x='true_label', y='value', col='variable',\n",
    "    kind='box', sharey=False, height=4, aspect=1\n",
    ")\n",
    "\n",
    "g.fig.subplots_adjust(top=0.8)\n",
    "g.fig.suptitle(\"Disagreement Feature Distribution by True Label (Separate Scales)\")\n",
    "g.set_axis_labels(\"True Label\", \"Feature Value\")\n",
    "plt.show()"
   ]
  },
  {
   "cell_type": "code",
   "execution_count": null,
   "metadata": {
    "colab": {
     "base_uri": "https://localhost:8080/",
     "height": 407
    },
    "id": "CEvzEE49OSuT",
    "outputId": "15000f17-8778-40d9-cf59-2b310a671f77"
   },
   "outputs": [],
   "source": [
    "# Compute correlation\n",
    "corr = disagreement_clean[feature_cols].corr()\n",
    "\n",
    "# Heatmap\n",
    "plt.figure(figsize=(6, 4))\n",
    "sns.heatmap(corr, annot=True, cmap='coolwarm', fmt=\".2f\")\n",
    "plt.title(\"Correlation Between Text Features\")\n",
    "plt.tight_layout()\n",
    "plt.show()"
   ]
  },
  {
   "cell_type": "code",
   "execution_count": null,
   "metadata": {
    "id": "d1teJPogPE9_"
   },
   "outputs": [],
   "source": [
    "nlp.enable_pipe(\"senter\")  # Optional safety, depending on spaCy version"
   ]
  },
  {
   "cell_type": "code",
   "execution_count": null,
   "metadata": {
    "id": "TnO_wMfJjVTa"
   },
   "outputs": [],
   "source": [
    "def has_nonstandard_grammar(text):\n",
    "    doc = nlp(text)\n",
    "    frag_count = sum(\n",
    "        1 for sent in doc.sents\n",
    "        if not any(tok.dep_ == 'nsubj' for tok in sent) or not any(tok.pos_ == 'VERB' for tok in sent)\n",
    "    )\n",
    "    return frag_count > 0"
   ]
  },
  {
   "cell_type": "code",
   "execution_count": null,
   "metadata": {
    "id": "e3swsy_5mvWU"
   },
   "outputs": [],
   "source": [
    "contradiction_patterns = [\n",
    "    r\"\\bbut\\b.*?\\bhowever\\b\",\n",
    "    r\"\\byet\\b.*?\\balso\\b\",\n",
    "    r\"\\bon the other hand\\b\",\n",
    "    r\"\\bdespite\\b.*?\\bstill\\b\"\n",
    "]"
   ]
  },
  {
   "cell_type": "code",
   "execution_count": null,
   "metadata": {
    "id": "RPo4dKqfmx4v"
   },
   "outputs": [],
   "source": [
    "!pip install transformers --quiet\n",
    "from transformers import pipeline"
   ]
  },
  {
   "cell_type": "code",
   "execution_count": null,
   "metadata": {
    "colab": {
     "base_uri": "https://localhost:8080/",
     "height": 356,
     "referenced_widgets": [
      "5a932ecb1a1547dba92856a66eb6d3e3",
      "2a5bbc270ef7498a98684e196fb7000f",
      "c573dc489e8b49d6beafbfacedf7dae1",
      "040f7c3be9dd45b59f3acb48e5fe3cd8",
      "019a528a6daf4d009704561a1c73f3ee",
      "0eeedf2d072b4d5d89b609d463ad4eec",
      "3399ef00620e45689814ce91f6a92ca6",
      "4e11d7b2bcde4b9c922a227874f6dcdd",
      "f94e9a8fec0a4bffbfc594eef4665c72",
      "9cae4499b573413780974cf768c701cd",
      "d64c4ccc31b549cc8aaa10df95e99d4d",
      "79407fbd58ec473b9572f8a1b8d7ad58",
      "69df6bda7db048708c1dbb95c2e4d34c",
      "3628ed364d4847648d6752323a6fcafd",
      "f97a104045dc43309d8ec4d77332f6d2",
      "032458e31eab490bb674f330c951eb8c",
      "5edcad84242f499c8a69de006566218f",
      "ca108b78c07b40708ce2216dca4b3e28",
      "52ded279b70442579775d6b953d8afa6",
      "01ca7e0591eb44eeaadbe91f95d64458",
      "dc4cf8f3c08f4cbdb2755e8ef354a1ad",
      "cf0e69a9665c4a8ebb1fdfeb7cee9b44",
      "adf3516d12ca4a0b89710727bfd6cede",
      "899a483454e84f2587fd1cc18ea21ca7",
      "7fae4812c6ea40069a59d86c18ce205b",
      "fd96c819bc7b461e90ca561beab93ac4",
      "215ab4e4e9cb4c92a666f50314f0f3c4",
      "bf6105a60bad4b0baca67f4fc759fc90",
      "38d4c672390d41a8b837e524ee4746d9",
      "f5f7fa2f8eeb4f4f8cb15d74170f000a",
      "00eb26d181fa4b02afe206d0d062f254",
      "34b418cd504942ce9ec2a3baf5352109",
      "e7f31175b4964ad99c3a091aeb5d9e56",
      "c66137883e834fce81217e7ca37b07cb",
      "bef3ed1ff0c3458f81678a6d56fab3a1",
      "fd7a34b4e9584c728618985495d77830",
      "8ea61c22fcc64451a1953c7624937ea3",
      "a3afa9acdc5b4d1084e9c8bf86935554",
      "a40e020f9c2b4fa683d37dfabe6dc1c1",
      "119b75eb5d6f415390cc32aa011468db",
      "9b41cf3e2bd14995918c38b5c1294339",
      "1120cd4ae587431da55a25aa67915eef",
      "01cb41398c78442eaa4a4e4a01b62539",
      "e518b31cc18d4bcc93e2c1b24a885023"
     ]
    },
    "id": "hkbYAk2tm2YW",
    "outputId": "099ac907-0ade-4206-94a7-089d4922ef8f"
   },
   "outputs": [],
   "source": [
    "sentiment_pipeline = pipeline(\"sentiment-analysis\")"
   ]
  },
  {
   "cell_type": "code",
   "execution_count": null,
   "metadata": {
    "id": "9DA1huc-nYeX"
   },
   "outputs": [],
   "source": [
    "df['sentiment'] = df['text'].apply(lambda x: sentiment_pipeline(x[:512])[0]['label'])  # Truncate long text"
   ]
  },
  {
   "cell_type": "code",
   "execution_count": null,
   "metadata": {
    "id": "Q2CfTNvMrg4_"
   },
   "outputs": [],
   "source": [
    "import re\n",
    "import pandas as pd\n",
    "import matplotlib.pyplot as plt\n",
    "import seaborn as sns\n",
    "import spacy\n",
    "\n",
    "# Load spaCy\n",
    "nlp = spacy.load(\"en_core_web_sm\")\n",
    "\n",
    "# Define heuristics\n",
    "def has_nonstandard_grammar(text):\n",
    "    doc = nlp(text)\n",
    "    frag_count = sum(1 for sent in doc.sents if len(sent) < 5 or not any(tok.dep_ == 'nsubj' for tok in sent))\n",
    "    return frag_count >= 1\n",
    "\n",
    "def has_ironic_or_cultural_cue(text):\n",
    "    cues = [\"as if\", \"yeah right\", \"because of course\", \"totally\", \"sarcasm\", \"obviously\", \"great job\", \"classic\"]\n",
    "    return any(cue in text.lower() for cue in cues)\n",
    "\n",
    "def has_logical_inconsistency(text):\n",
    "    contradiction_patterns = [r\"\\bbut\\b.*\\bhowever\\b\", r\"\\byet\\b.*\\balso\\b\", r\"\\bon the other hand\\b\"]\n",
    "    return any(re.search(pattern, text.lower()) for pattern in contradiction_patterns)\n",
    "\n",
    "# Apply to DataFrame `df` (replace if your disagreement set is named differently)\n",
    "df['nonstandard_grammar'] = df['text'].apply(has_nonstandard_grammar)\n",
    "df['irony_or_culture'] = df['text'].apply(has_ironic_or_cultural_cue)\n",
    "df['logical_inconsistency'] = df['text'].apply(has_logical_inconsistency)\n",
    "\n",
    "# Tag dominant reason\n",
    "def tag_reason(row):\n",
    "    reasons = []\n",
    "    if row['irony_or_culture']:\n",
    "        reasons.append(\"Humor/Irony/Culture\")\n",
    "    if row['nonstandard_grammar']:\n",
    "        reasons.append(\"Nonstandard Grammar\")\n",
    "    if row['logical_inconsistency']:\n",
    "        reasons.append(\"Logical Inconsistency\")\n",
    "    return \", \".join(reasons) if reasons else \"Unclear\"\n",
    "\n",
    "df['failure_reason'] = df.apply(tag_reason, axis=1)"
   ]
  },
  {
   "cell_type": "code",
   "execution_count": null,
   "metadata": {
    "colab": {
     "base_uri": "https://localhost:8080/",
     "height": 506
    },
    "id": "spiHMIb1qCp1",
    "outputId": "43bfa842-9cc9-4274-8cfe-60a88fee2c35"
   },
   "outputs": [],
   "source": [
    "\n",
    "# ✅ Visualization: Count Plot of Failure Reasons\n",
    "plt.figure(figsize=(10, 5))\n",
    "sns.countplot(data=df, x='failure_reason', order=df['failure_reason'].value_counts().index)\n",
    "plt.title(\"Heuristic Breakdown of Disagreements\")\n",
    "plt.xlabel(\"Likely Reason for Human-Model Disagreement\")\n",
    "plt.ylabel(\"Number of Samples\")\n",
    "plt.xticks(rotation=30)\n",
    "plt.tight_layout()\n",
    "plt.show()"
   ]
  }
 ],
 "metadata": {
  "colab": {
   "provenance": []
  },
  "kernelspec": {
   "display_name": "Python 3",
   "name": "python3"
  },
  "language_info": {
   "name": "python"
  },
  "widgets": {
   "application/vnd.jupyter.widget-state+json": {
    "00eb26d181fa4b02afe206d0d062f254": {
     "model_module": "@jupyter-widgets/controls",
     "model_module_version": "1.5.0",
     "model_name": "ProgressStyleModel",
     "state": {
      "_model_module": "@jupyter-widgets/controls",
      "_model_module_version": "1.5.0",
      "_model_name": "ProgressStyleModel",
      "_view_count": null,
      "_view_module": "@jupyter-widgets/base",
      "_view_module_version": "1.2.0",
      "_view_name": "StyleView",
      "bar_color": null,
      "description_width": ""
     }
    },
    "019a528a6daf4d009704561a1c73f3ee": {
     "model_module": "@jupyter-widgets/base",
     "model_module_version": "1.2.0",
     "model_name": "LayoutModel",
     "state": {
      "_model_module": "@jupyter-widgets/base",
      "_model_module_version": "1.2.0",
      "_model_name": "LayoutModel",
      "_view_count": null,
      "_view_module": "@jupyter-widgets/base",
      "_view_module_version": "1.2.0",
      "_view_name": "LayoutView",
      "align_content": null,
      "align_items": null,
      "align_self": null,
      "border": null,
      "bottom": null,
      "display": null,
      "flex": null,
      "flex_flow": null,
      "grid_area": null,
      "grid_auto_columns": null,
      "grid_auto_flow": null,
      "grid_auto_rows": null,
      "grid_column": null,
      "grid_gap": null,
      "grid_row": null,
      "grid_template_areas": null,
      "grid_template_columns": null,
      "grid_template_rows": null,
      "height": null,
      "justify_content": null,
      "justify_items": null,
      "left": null,
      "margin": null,
      "max_height": null,
      "max_width": null,
      "min_height": null,
      "min_width": null,
      "object_fit": null,
      "object_position": null,
      "order": null,
      "overflow": null,
      "overflow_x": null,
      "overflow_y": null,
      "padding": null,
      "right": null,
      "top": null,
      "visibility": null,
      "width": null
     }
    },
    "01ca7e0591eb44eeaadbe91f95d64458": {
     "model_module": "@jupyter-widgets/controls",
     "model_module_version": "1.5.0",
     "model_name": "ProgressStyleModel",
     "state": {
      "_model_module": "@jupyter-widgets/controls",
      "_model_module_version": "1.5.0",
      "_model_name": "ProgressStyleModel",
      "_view_count": null,
      "_view_module": "@jupyter-widgets/base",
      "_view_module_version": "1.2.0",
      "_view_name": "StyleView",
      "bar_color": null,
      "description_width": ""
     }
    },
    "01cb41398c78442eaa4a4e4a01b62539": {
     "model_module": "@jupyter-widgets/base",
     "model_module_version": "1.2.0",
     "model_name": "LayoutModel",
     "state": {
      "_model_module": "@jupyter-widgets/base",
      "_model_module_version": "1.2.0",
      "_model_name": "LayoutModel",
      "_view_count": null,
      "_view_module": "@jupyter-widgets/base",
      "_view_module_version": "1.2.0",
      "_view_name": "LayoutView",
      "align_content": null,
      "align_items": null,
      "align_self": null,
      "border": null,
      "bottom": null,
      "display": null,
      "flex": null,
      "flex_flow": null,
      "grid_area": null,
      "grid_auto_columns": null,
      "grid_auto_flow": null,
      "grid_auto_rows": null,
      "grid_column": null,
      "grid_gap": null,
      "grid_row": null,
      "grid_template_areas": null,
      "grid_template_columns": null,
      "grid_template_rows": null,
      "height": null,
      "justify_content": null,
      "justify_items": null,
      "left": null,
      "margin": null,
      "max_height": null,
      "max_width": null,
      "min_height": null,
      "min_width": null,
      "object_fit": null,
      "object_position": null,
      "order": null,
      "overflow": null,
      "overflow_x": null,
      "overflow_y": null,
      "padding": null,
      "right": null,
      "top": null,
      "visibility": null,
      "width": null
     }
    },
    "032458e31eab490bb674f330c951eb8c": {
     "model_module": "@jupyter-widgets/base",
     "model_module_version": "1.2.0",
     "model_name": "LayoutModel",
     "state": {
      "_model_module": "@jupyter-widgets/base",
      "_model_module_version": "1.2.0",
      "_model_name": "LayoutModel",
      "_view_count": null,
      "_view_module": "@jupyter-widgets/base",
      "_view_module_version": "1.2.0",
      "_view_name": "LayoutView",
      "align_content": null,
      "align_items": null,
      "align_self": null,
      "border": null,
      "bottom": null,
      "display": null,
      "flex": null,
      "flex_flow": null,
      "grid_area": null,
      "grid_auto_columns": null,
      "grid_auto_flow": null,
      "grid_auto_rows": null,
      "grid_column": null,
      "grid_gap": null,
      "grid_row": null,
      "grid_template_areas": null,
      "grid_template_columns": null,
      "grid_template_rows": null,
      "height": null,
      "justify_content": null,
      "justify_items": null,
      "left": null,
      "margin": null,
      "max_height": null,
      "max_width": null,
      "min_height": null,
      "min_width": null,
      "object_fit": null,
      "object_position": null,
      "order": null,
      "overflow": null,
      "overflow_x": null,
      "overflow_y": null,
      "padding": null,
      "right": null,
      "top": null,
      "visibility": null,
      "width": null
     }
    },
    "040f7c3be9dd45b59f3acb48e5fe3cd8": {
     "model_module": "@jupyter-widgets/controls",
     "model_module_version": "1.5.0",
     "model_name": "HTMLModel",
     "state": {
      "_dom_classes": [],
      "_model_module": "@jupyter-widgets/controls",
      "_model_module_version": "1.5.0",
      "_model_name": "HTMLModel",
      "_view_count": null,
      "_view_module": "@jupyter-widgets/controls",
      "_view_module_version": "1.5.0",
      "_view_name": "HTMLView",
      "description": "",
      "description_tooltip": null,
      "layout": "IPY_MODEL_9cae4499b573413780974cf768c701cd",
      "placeholder": "​",
      "style": "IPY_MODEL_d64c4ccc31b549cc8aaa10df95e99d4d",
      "value": " 629/629 [00:00&lt;00:00, 32.6kB/s]"
     }
    },
    "0eeedf2d072b4d5d89b609d463ad4eec": {
     "model_module": "@jupyter-widgets/base",
     "model_module_version": "1.2.0",
     "model_name": "LayoutModel",
     "state": {
      "_model_module": "@jupyter-widgets/base",
      "_model_module_version": "1.2.0",
      "_model_name": "LayoutModel",
      "_view_count": null,
      "_view_module": "@jupyter-widgets/base",
      "_view_module_version": "1.2.0",
      "_view_name": "LayoutView",
      "align_content": null,
      "align_items": null,
      "align_self": null,
      "border": null,
      "bottom": null,
      "display": null,
      "flex": null,
      "flex_flow": null,
      "grid_area": null,
      "grid_auto_columns": null,
      "grid_auto_flow": null,
      "grid_auto_rows": null,
      "grid_column": null,
      "grid_gap": null,
      "grid_row": null,
      "grid_template_areas": null,
      "grid_template_columns": null,
      "grid_template_rows": null,
      "height": null,
      "justify_content": null,
      "justify_items": null,
      "left": null,
      "margin": null,
      "max_height": null,
      "max_width": null,
      "min_height": null,
      "min_width": null,
      "object_fit": null,
      "object_position": null,
      "order": null,
      "overflow": null,
      "overflow_x": null,
      "overflow_y": null,
      "padding": null,
      "right": null,
      "top": null,
      "visibility": null,
      "width": null
     }
    },
    "1120cd4ae587431da55a25aa67915eef": {
     "model_module": "@jupyter-widgets/controls",
     "model_module_version": "1.5.0",
     "model_name": "ProgressStyleModel",
     "state": {
      "_model_module": "@jupyter-widgets/controls",
      "_model_module_version": "1.5.0",
      "_model_name": "ProgressStyleModel",
      "_view_count": null,
      "_view_module": "@jupyter-widgets/base",
      "_view_module_version": "1.2.0",
      "_view_name": "StyleView",
      "bar_color": null,
      "description_width": ""
     }
    },
    "119b75eb5d6f415390cc32aa011468db": {
     "model_module": "@jupyter-widgets/controls",
     "model_module_version": "1.5.0",
     "model_name": "DescriptionStyleModel",
     "state": {
      "_model_module": "@jupyter-widgets/controls",
      "_model_module_version": "1.5.0",
      "_model_name": "DescriptionStyleModel",
      "_view_count": null,
      "_view_module": "@jupyter-widgets/base",
      "_view_module_version": "1.2.0",
      "_view_name": "StyleView",
      "description_width": ""
     }
    },
    "215ab4e4e9cb4c92a666f50314f0f3c4": {
     "model_module": "@jupyter-widgets/base",
     "model_module_version": "1.2.0",
     "model_name": "LayoutModel",
     "state": {
      "_model_module": "@jupyter-widgets/base",
      "_model_module_version": "1.2.0",
      "_model_name": "LayoutModel",
      "_view_count": null,
      "_view_module": "@jupyter-widgets/base",
      "_view_module_version": "1.2.0",
      "_view_name": "LayoutView",
      "align_content": null,
      "align_items": null,
      "align_self": null,
      "border": null,
      "bottom": null,
      "display": null,
      "flex": null,
      "flex_flow": null,
      "grid_area": null,
      "grid_auto_columns": null,
      "grid_auto_flow": null,
      "grid_auto_rows": null,
      "grid_column": null,
      "grid_gap": null,
      "grid_row": null,
      "grid_template_areas": null,
      "grid_template_columns": null,
      "grid_template_rows": null,
      "height": null,
      "justify_content": null,
      "justify_items": null,
      "left": null,
      "margin": null,
      "max_height": null,
      "max_width": null,
      "min_height": null,
      "min_width": null,
      "object_fit": null,
      "object_position": null,
      "order": null,
      "overflow": null,
      "overflow_x": null,
      "overflow_y": null,
      "padding": null,
      "right": null,
      "top": null,
      "visibility": null,
      "width": null
     }
    },
    "2a5bbc270ef7498a98684e196fb7000f": {
     "model_module": "@jupyter-widgets/controls",
     "model_module_version": "1.5.0",
     "model_name": "HTMLModel",
     "state": {
      "_dom_classes": [],
      "_model_module": "@jupyter-widgets/controls",
      "_model_module_version": "1.5.0",
      "_model_name": "HTMLModel",
      "_view_count": null,
      "_view_module": "@jupyter-widgets/controls",
      "_view_module_version": "1.5.0",
      "_view_name": "HTMLView",
      "description": "",
      "description_tooltip": null,
      "layout": "IPY_MODEL_0eeedf2d072b4d5d89b609d463ad4eec",
      "placeholder": "​",
      "style": "IPY_MODEL_3399ef00620e45689814ce91f6a92ca6",
      "value": "config.json: 100%"
     }
    },
    "3399ef00620e45689814ce91f6a92ca6": {
     "model_module": "@jupyter-widgets/controls",
     "model_module_version": "1.5.0",
     "model_name": "DescriptionStyleModel",
     "state": {
      "_model_module": "@jupyter-widgets/controls",
      "_model_module_version": "1.5.0",
      "_model_name": "DescriptionStyleModel",
      "_view_count": null,
      "_view_module": "@jupyter-widgets/base",
      "_view_module_version": "1.2.0",
      "_view_name": "StyleView",
      "description_width": ""
     }
    },
    "34b418cd504942ce9ec2a3baf5352109": {
     "model_module": "@jupyter-widgets/base",
     "model_module_version": "1.2.0",
     "model_name": "LayoutModel",
     "state": {
      "_model_module": "@jupyter-widgets/base",
      "_model_module_version": "1.2.0",
      "_model_name": "LayoutModel",
      "_view_count": null,
      "_view_module": "@jupyter-widgets/base",
      "_view_module_version": "1.2.0",
      "_view_name": "LayoutView",
      "align_content": null,
      "align_items": null,
      "align_self": null,
      "border": null,
      "bottom": null,
      "display": null,
      "flex": null,
      "flex_flow": null,
      "grid_area": null,
      "grid_auto_columns": null,
      "grid_auto_flow": null,
      "grid_auto_rows": null,
      "grid_column": null,
      "grid_gap": null,
      "grid_row": null,
      "grid_template_areas": null,
      "grid_template_columns": null,
      "grid_template_rows": null,
      "height": null,
      "justify_content": null,
      "justify_items": null,
      "left": null,
      "margin": null,
      "max_height": null,
      "max_width": null,
      "min_height": null,
      "min_width": null,
      "object_fit": null,
      "object_position": null,
      "order": null,
      "overflow": null,
      "overflow_x": null,
      "overflow_y": null,
      "padding": null,
      "right": null,
      "top": null,
      "visibility": null,
      "width": null
     }
    },
    "3628ed364d4847648d6752323a6fcafd": {
     "model_module": "@jupyter-widgets/controls",
     "model_module_version": "1.5.0",
     "model_name": "FloatProgressModel",
     "state": {
      "_dom_classes": [],
      "_model_module": "@jupyter-widgets/controls",
      "_model_module_version": "1.5.0",
      "_model_name": "FloatProgressModel",
      "_view_count": null,
      "_view_module": "@jupyter-widgets/controls",
      "_view_module_version": "1.5.0",
      "_view_name": "ProgressView",
      "bar_style": "success",
      "description": "",
      "description_tooltip": null,
      "layout": "IPY_MODEL_52ded279b70442579775d6b953d8afa6",
      "max": 267832558,
      "min": 0,
      "orientation": "horizontal",
      "style": "IPY_MODEL_01ca7e0591eb44eeaadbe91f95d64458",
      "value": 267832558
     }
    },
    "38d4c672390d41a8b837e524ee4746d9": {
     "model_module": "@jupyter-widgets/controls",
     "model_module_version": "1.5.0",
     "model_name": "DescriptionStyleModel",
     "state": {
      "_model_module": "@jupyter-widgets/controls",
      "_model_module_version": "1.5.0",
      "_model_name": "DescriptionStyleModel",
      "_view_count": null,
      "_view_module": "@jupyter-widgets/base",
      "_view_module_version": "1.2.0",
      "_view_name": "StyleView",
      "description_width": ""
     }
    },
    "4e11d7b2bcde4b9c922a227874f6dcdd": {
     "model_module": "@jupyter-widgets/base",
     "model_module_version": "1.2.0",
     "model_name": "LayoutModel",
     "state": {
      "_model_module": "@jupyter-widgets/base",
      "_model_module_version": "1.2.0",
      "_model_name": "LayoutModel",
      "_view_count": null,
      "_view_module": "@jupyter-widgets/base",
      "_view_module_version": "1.2.0",
      "_view_name": "LayoutView",
      "align_content": null,
      "align_items": null,
      "align_self": null,
      "border": null,
      "bottom": null,
      "display": null,
      "flex": null,
      "flex_flow": null,
      "grid_area": null,
      "grid_auto_columns": null,
      "grid_auto_flow": null,
      "grid_auto_rows": null,
      "grid_column": null,
      "grid_gap": null,
      "grid_row": null,
      "grid_template_areas": null,
      "grid_template_columns": null,
      "grid_template_rows": null,
      "height": null,
      "justify_content": null,
      "justify_items": null,
      "left": null,
      "margin": null,
      "max_height": null,
      "max_width": null,
      "min_height": null,
      "min_width": null,
      "object_fit": null,
      "object_position": null,
      "order": null,
      "overflow": null,
      "overflow_x": null,
      "overflow_y": null,
      "padding": null,
      "right": null,
      "top": null,
      "visibility": null,
      "width": null
     }
    },
    "52ded279b70442579775d6b953d8afa6": {
     "model_module": "@jupyter-widgets/base",
     "model_module_version": "1.2.0",
     "model_name": "LayoutModel",
     "state": {
      "_model_module": "@jupyter-widgets/base",
      "_model_module_version": "1.2.0",
      "_model_name": "LayoutModel",
      "_view_count": null,
      "_view_module": "@jupyter-widgets/base",
      "_view_module_version": "1.2.0",
      "_view_name": "LayoutView",
      "align_content": null,
      "align_items": null,
      "align_self": null,
      "border": null,
      "bottom": null,
      "display": null,
      "flex": null,
      "flex_flow": null,
      "grid_area": null,
      "grid_auto_columns": null,
      "grid_auto_flow": null,
      "grid_auto_rows": null,
      "grid_column": null,
      "grid_gap": null,
      "grid_row": null,
      "grid_template_areas": null,
      "grid_template_columns": null,
      "grid_template_rows": null,
      "height": null,
      "justify_content": null,
      "justify_items": null,
      "left": null,
      "margin": null,
      "max_height": null,
      "max_width": null,
      "min_height": null,
      "min_width": null,
      "object_fit": null,
      "object_position": null,
      "order": null,
      "overflow": null,
      "overflow_x": null,
      "overflow_y": null,
      "padding": null,
      "right": null,
      "top": null,
      "visibility": null,
      "width": null
     }
    },
    "5a932ecb1a1547dba92856a66eb6d3e3": {
     "model_module": "@jupyter-widgets/controls",
     "model_module_version": "1.5.0",
     "model_name": "HBoxModel",
     "state": {
      "_dom_classes": [],
      "_model_module": "@jupyter-widgets/controls",
      "_model_module_version": "1.5.0",
      "_model_name": "HBoxModel",
      "_view_count": null,
      "_view_module": "@jupyter-widgets/controls",
      "_view_module_version": "1.5.0",
      "_view_name": "HBoxView",
      "box_style": "",
      "children": [
       "IPY_MODEL_2a5bbc270ef7498a98684e196fb7000f",
       "IPY_MODEL_c573dc489e8b49d6beafbfacedf7dae1",
       "IPY_MODEL_040f7c3be9dd45b59f3acb48e5fe3cd8"
      ],
      "layout": "IPY_MODEL_019a528a6daf4d009704561a1c73f3ee"
     }
    },
    "5edcad84242f499c8a69de006566218f": {
     "model_module": "@jupyter-widgets/base",
     "model_module_version": "1.2.0",
     "model_name": "LayoutModel",
     "state": {
      "_model_module": "@jupyter-widgets/base",
      "_model_module_version": "1.2.0",
      "_model_name": "LayoutModel",
      "_view_count": null,
      "_view_module": "@jupyter-widgets/base",
      "_view_module_version": "1.2.0",
      "_view_name": "LayoutView",
      "align_content": null,
      "align_items": null,
      "align_self": null,
      "border": null,
      "bottom": null,
      "display": null,
      "flex": null,
      "flex_flow": null,
      "grid_area": null,
      "grid_auto_columns": null,
      "grid_auto_flow": null,
      "grid_auto_rows": null,
      "grid_column": null,
      "grid_gap": null,
      "grid_row": null,
      "grid_template_areas": null,
      "grid_template_columns": null,
      "grid_template_rows": null,
      "height": null,
      "justify_content": null,
      "justify_items": null,
      "left": null,
      "margin": null,
      "max_height": null,
      "max_width": null,
      "min_height": null,
      "min_width": null,
      "object_fit": null,
      "object_position": null,
      "order": null,
      "overflow": null,
      "overflow_x": null,
      "overflow_y": null,
      "padding": null,
      "right": null,
      "top": null,
      "visibility": null,
      "width": null
     }
    },
    "69df6bda7db048708c1dbb95c2e4d34c": {
     "model_module": "@jupyter-widgets/controls",
     "model_module_version": "1.5.0",
     "model_name": "HTMLModel",
     "state": {
      "_dom_classes": [],
      "_model_module": "@jupyter-widgets/controls",
      "_model_module_version": "1.5.0",
      "_model_name": "HTMLModel",
      "_view_count": null,
      "_view_module": "@jupyter-widgets/controls",
      "_view_module_version": "1.5.0",
      "_view_name": "HTMLView",
      "description": "",
      "description_tooltip": null,
      "layout": "IPY_MODEL_5edcad84242f499c8a69de006566218f",
      "placeholder": "​",
      "style": "IPY_MODEL_ca108b78c07b40708ce2216dca4b3e28",
      "value": "model.safetensors: 100%"
     }
    },
    "79407fbd58ec473b9572f8a1b8d7ad58": {
     "model_module": "@jupyter-widgets/controls",
     "model_module_version": "1.5.0",
     "model_name": "HBoxModel",
     "state": {
      "_dom_classes": [],
      "_model_module": "@jupyter-widgets/controls",
      "_model_module_version": "1.5.0",
      "_model_name": "HBoxModel",
      "_view_count": null,
      "_view_module": "@jupyter-widgets/controls",
      "_view_module_version": "1.5.0",
      "_view_name": "HBoxView",
      "box_style": "",
      "children": [
       "IPY_MODEL_69df6bda7db048708c1dbb95c2e4d34c",
       "IPY_MODEL_3628ed364d4847648d6752323a6fcafd",
       "IPY_MODEL_f97a104045dc43309d8ec4d77332f6d2"
      ],
      "layout": "IPY_MODEL_032458e31eab490bb674f330c951eb8c"
     }
    },
    "7fae4812c6ea40069a59d86c18ce205b": {
     "model_module": "@jupyter-widgets/controls",
     "model_module_version": "1.5.0",
     "model_name": "FloatProgressModel",
     "state": {
      "_dom_classes": [],
      "_model_module": "@jupyter-widgets/controls",
      "_model_module_version": "1.5.0",
      "_model_name": "FloatProgressModel",
      "_view_count": null,
      "_view_module": "@jupyter-widgets/controls",
      "_view_module_version": "1.5.0",
      "_view_name": "ProgressView",
      "bar_style": "success",
      "description": "",
      "description_tooltip": null,
      "layout": "IPY_MODEL_f5f7fa2f8eeb4f4f8cb15d74170f000a",
      "max": 48,
      "min": 0,
      "orientation": "horizontal",
      "style": "IPY_MODEL_00eb26d181fa4b02afe206d0d062f254",
      "value": 48
     }
    },
    "899a483454e84f2587fd1cc18ea21ca7": {
     "model_module": "@jupyter-widgets/controls",
     "model_module_version": "1.5.0",
     "model_name": "HTMLModel",
     "state": {
      "_dom_classes": [],
      "_model_module": "@jupyter-widgets/controls",
      "_model_module_version": "1.5.0",
      "_model_name": "HTMLModel",
      "_view_count": null,
      "_view_module": "@jupyter-widgets/controls",
      "_view_module_version": "1.5.0",
      "_view_name": "HTMLView",
      "description": "",
      "description_tooltip": null,
      "layout": "IPY_MODEL_bf6105a60bad4b0baca67f4fc759fc90",
      "placeholder": "​",
      "style": "IPY_MODEL_38d4c672390d41a8b837e524ee4746d9",
      "value": "tokenizer_config.json: 100%"
     }
    },
    "8ea61c22fcc64451a1953c7624937ea3": {
     "model_module": "@jupyter-widgets/controls",
     "model_module_version": "1.5.0",
     "model_name": "HTMLModel",
     "state": {
      "_dom_classes": [],
      "_model_module": "@jupyter-widgets/controls",
      "_model_module_version": "1.5.0",
      "_model_name": "HTMLModel",
      "_view_count": null,
      "_view_module": "@jupyter-widgets/controls",
      "_view_module_version": "1.5.0",
      "_view_name": "HTMLView",
      "description": "",
      "description_tooltip": null,
      "layout": "IPY_MODEL_01cb41398c78442eaa4a4e4a01b62539",
      "placeholder": "​",
      "style": "IPY_MODEL_e518b31cc18d4bcc93e2c1b24a885023",
      "value": " 232k/232k [00:00&lt;00:00, 648kB/s]"
     }
    },
    "9b41cf3e2bd14995918c38b5c1294339": {
     "model_module": "@jupyter-widgets/base",
     "model_module_version": "1.2.0",
     "model_name": "LayoutModel",
     "state": {
      "_model_module": "@jupyter-widgets/base",
      "_model_module_version": "1.2.0",
      "_model_name": "LayoutModel",
      "_view_count": null,
      "_view_module": "@jupyter-widgets/base",
      "_view_module_version": "1.2.0",
      "_view_name": "LayoutView",
      "align_content": null,
      "align_items": null,
      "align_self": null,
      "border": null,
      "bottom": null,
      "display": null,
      "flex": null,
      "flex_flow": null,
      "grid_area": null,
      "grid_auto_columns": null,
      "grid_auto_flow": null,
      "grid_auto_rows": null,
      "grid_column": null,
      "grid_gap": null,
      "grid_row": null,
      "grid_template_areas": null,
      "grid_template_columns": null,
      "grid_template_rows": null,
      "height": null,
      "justify_content": null,
      "justify_items": null,
      "left": null,
      "margin": null,
      "max_height": null,
      "max_width": null,
      "min_height": null,
      "min_width": null,
      "object_fit": null,
      "object_position": null,
      "order": null,
      "overflow": null,
      "overflow_x": null,
      "overflow_y": null,
      "padding": null,
      "right": null,
      "top": null,
      "visibility": null,
      "width": null
     }
    },
    "9cae4499b573413780974cf768c701cd": {
     "model_module": "@jupyter-widgets/base",
     "model_module_version": "1.2.0",
     "model_name": "LayoutModel",
     "state": {
      "_model_module": "@jupyter-widgets/base",
      "_model_module_version": "1.2.0",
      "_model_name": "LayoutModel",
      "_view_count": null,
      "_view_module": "@jupyter-widgets/base",
      "_view_module_version": "1.2.0",
      "_view_name": "LayoutView",
      "align_content": null,
      "align_items": null,
      "align_self": null,
      "border": null,
      "bottom": null,
      "display": null,
      "flex": null,
      "flex_flow": null,
      "grid_area": null,
      "grid_auto_columns": null,
      "grid_auto_flow": null,
      "grid_auto_rows": null,
      "grid_column": null,
      "grid_gap": null,
      "grid_row": null,
      "grid_template_areas": null,
      "grid_template_columns": null,
      "grid_template_rows": null,
      "height": null,
      "justify_content": null,
      "justify_items": null,
      "left": null,
      "margin": null,
      "max_height": null,
      "max_width": null,
      "min_height": null,
      "min_width": null,
      "object_fit": null,
      "object_position": null,
      "order": null,
      "overflow": null,
      "overflow_x": null,
      "overflow_y": null,
      "padding": null,
      "right": null,
      "top": null,
      "visibility": null,
      "width": null
     }
    },
    "a3afa9acdc5b4d1084e9c8bf86935554": {
     "model_module": "@jupyter-widgets/base",
     "model_module_version": "1.2.0",
     "model_name": "LayoutModel",
     "state": {
      "_model_module": "@jupyter-widgets/base",
      "_model_module_version": "1.2.0",
      "_model_name": "LayoutModel",
      "_view_count": null,
      "_view_module": "@jupyter-widgets/base",
      "_view_module_version": "1.2.0",
      "_view_name": "LayoutView",
      "align_content": null,
      "align_items": null,
      "align_self": null,
      "border": null,
      "bottom": null,
      "display": null,
      "flex": null,
      "flex_flow": null,
      "grid_area": null,
      "grid_auto_columns": null,
      "grid_auto_flow": null,
      "grid_auto_rows": null,
      "grid_column": null,
      "grid_gap": null,
      "grid_row": null,
      "grid_template_areas": null,
      "grid_template_columns": null,
      "grid_template_rows": null,
      "height": null,
      "justify_content": null,
      "justify_items": null,
      "left": null,
      "margin": null,
      "max_height": null,
      "max_width": null,
      "min_height": null,
      "min_width": null,
      "object_fit": null,
      "object_position": null,
      "order": null,
      "overflow": null,
      "overflow_x": null,
      "overflow_y": null,
      "padding": null,
      "right": null,
      "top": null,
      "visibility": null,
      "width": null
     }
    },
    "a40e020f9c2b4fa683d37dfabe6dc1c1": {
     "model_module": "@jupyter-widgets/base",
     "model_module_version": "1.2.0",
     "model_name": "LayoutModel",
     "state": {
      "_model_module": "@jupyter-widgets/base",
      "_model_module_version": "1.2.0",
      "_model_name": "LayoutModel",
      "_view_count": null,
      "_view_module": "@jupyter-widgets/base",
      "_view_module_version": "1.2.0",
      "_view_name": "LayoutView",
      "align_content": null,
      "align_items": null,
      "align_self": null,
      "border": null,
      "bottom": null,
      "display": null,
      "flex": null,
      "flex_flow": null,
      "grid_area": null,
      "grid_auto_columns": null,
      "grid_auto_flow": null,
      "grid_auto_rows": null,
      "grid_column": null,
      "grid_gap": null,
      "grid_row": null,
      "grid_template_areas": null,
      "grid_template_columns": null,
      "grid_template_rows": null,
      "height": null,
      "justify_content": null,
      "justify_items": null,
      "left": null,
      "margin": null,
      "max_height": null,
      "max_width": null,
      "min_height": null,
      "min_width": null,
      "object_fit": null,
      "object_position": null,
      "order": null,
      "overflow": null,
      "overflow_x": null,
      "overflow_y": null,
      "padding": null,
      "right": null,
      "top": null,
      "visibility": null,
      "width": null
     }
    },
    "adf3516d12ca4a0b89710727bfd6cede": {
     "model_module": "@jupyter-widgets/controls",
     "model_module_version": "1.5.0",
     "model_name": "HBoxModel",
     "state": {
      "_dom_classes": [],
      "_model_module": "@jupyter-widgets/controls",
      "_model_module_version": "1.5.0",
      "_model_name": "HBoxModel",
      "_view_count": null,
      "_view_module": "@jupyter-widgets/controls",
      "_view_module_version": "1.5.0",
      "_view_name": "HBoxView",
      "box_style": "",
      "children": [
       "IPY_MODEL_899a483454e84f2587fd1cc18ea21ca7",
       "IPY_MODEL_7fae4812c6ea40069a59d86c18ce205b",
       "IPY_MODEL_fd96c819bc7b461e90ca561beab93ac4"
      ],
      "layout": "IPY_MODEL_215ab4e4e9cb4c92a666f50314f0f3c4"
     }
    },
    "bef3ed1ff0c3458f81678a6d56fab3a1": {
     "model_module": "@jupyter-widgets/controls",
     "model_module_version": "1.5.0",
     "model_name": "HTMLModel",
     "state": {
      "_dom_classes": [],
      "_model_module": "@jupyter-widgets/controls",
      "_model_module_version": "1.5.0",
      "_model_name": "HTMLModel",
      "_view_count": null,
      "_view_module": "@jupyter-widgets/controls",
      "_view_module_version": "1.5.0",
      "_view_name": "HTMLView",
      "description": "",
      "description_tooltip": null,
      "layout": "IPY_MODEL_a40e020f9c2b4fa683d37dfabe6dc1c1",
      "placeholder": "​",
      "style": "IPY_MODEL_119b75eb5d6f415390cc32aa011468db",
      "value": "vocab.txt: 100%"
     }
    },
    "bf6105a60bad4b0baca67f4fc759fc90": {
     "model_module": "@jupyter-widgets/base",
     "model_module_version": "1.2.0",
     "model_name": "LayoutModel",
     "state": {
      "_model_module": "@jupyter-widgets/base",
      "_model_module_version": "1.2.0",
      "_model_name": "LayoutModel",
      "_view_count": null,
      "_view_module": "@jupyter-widgets/base",
      "_view_module_version": "1.2.0",
      "_view_name": "LayoutView",
      "align_content": null,
      "align_items": null,
      "align_self": null,
      "border": null,
      "bottom": null,
      "display": null,
      "flex": null,
      "flex_flow": null,
      "grid_area": null,
      "grid_auto_columns": null,
      "grid_auto_flow": null,
      "grid_auto_rows": null,
      "grid_column": null,
      "grid_gap": null,
      "grid_row": null,
      "grid_template_areas": null,
      "grid_template_columns": null,
      "grid_template_rows": null,
      "height": null,
      "justify_content": null,
      "justify_items": null,
      "left": null,
      "margin": null,
      "max_height": null,
      "max_width": null,
      "min_height": null,
      "min_width": null,
      "object_fit": null,
      "object_position": null,
      "order": null,
      "overflow": null,
      "overflow_x": null,
      "overflow_y": null,
      "padding": null,
      "right": null,
      "top": null,
      "visibility": null,
      "width": null
     }
    },
    "c573dc489e8b49d6beafbfacedf7dae1": {
     "model_module": "@jupyter-widgets/controls",
     "model_module_version": "1.5.0",
     "model_name": "FloatProgressModel",
     "state": {
      "_dom_classes": [],
      "_model_module": "@jupyter-widgets/controls",
      "_model_module_version": "1.5.0",
      "_model_name": "FloatProgressModel",
      "_view_count": null,
      "_view_module": "@jupyter-widgets/controls",
      "_view_module_version": "1.5.0",
      "_view_name": "ProgressView",
      "bar_style": "success",
      "description": "",
      "description_tooltip": null,
      "layout": "IPY_MODEL_4e11d7b2bcde4b9c922a227874f6dcdd",
      "max": 629,
      "min": 0,
      "orientation": "horizontal",
      "style": "IPY_MODEL_f94e9a8fec0a4bffbfc594eef4665c72",
      "value": 629
     }
    },
    "c66137883e834fce81217e7ca37b07cb": {
     "model_module": "@jupyter-widgets/controls",
     "model_module_version": "1.5.0",
     "model_name": "HBoxModel",
     "state": {
      "_dom_classes": [],
      "_model_module": "@jupyter-widgets/controls",
      "_model_module_version": "1.5.0",
      "_model_name": "HBoxModel",
      "_view_count": null,
      "_view_module": "@jupyter-widgets/controls",
      "_view_module_version": "1.5.0",
      "_view_name": "HBoxView",
      "box_style": "",
      "children": [
       "IPY_MODEL_bef3ed1ff0c3458f81678a6d56fab3a1",
       "IPY_MODEL_fd7a34b4e9584c728618985495d77830",
       "IPY_MODEL_8ea61c22fcc64451a1953c7624937ea3"
      ],
      "layout": "IPY_MODEL_a3afa9acdc5b4d1084e9c8bf86935554"
     }
    },
    "ca108b78c07b40708ce2216dca4b3e28": {
     "model_module": "@jupyter-widgets/controls",
     "model_module_version": "1.5.0",
     "model_name": "DescriptionStyleModel",
     "state": {
      "_model_module": "@jupyter-widgets/controls",
      "_model_module_version": "1.5.0",
      "_model_name": "DescriptionStyleModel",
      "_view_count": null,
      "_view_module": "@jupyter-widgets/base",
      "_view_module_version": "1.2.0",
      "_view_name": "StyleView",
      "description_width": ""
     }
    },
    "cf0e69a9665c4a8ebb1fdfeb7cee9b44": {
     "model_module": "@jupyter-widgets/controls",
     "model_module_version": "1.5.0",
     "model_name": "DescriptionStyleModel",
     "state": {
      "_model_module": "@jupyter-widgets/controls",
      "_model_module_version": "1.5.0",
      "_model_name": "DescriptionStyleModel",
      "_view_count": null,
      "_view_module": "@jupyter-widgets/base",
      "_view_module_version": "1.2.0",
      "_view_name": "StyleView",
      "description_width": ""
     }
    },
    "d64c4ccc31b549cc8aaa10df95e99d4d": {
     "model_module": "@jupyter-widgets/controls",
     "model_module_version": "1.5.0",
     "model_name": "DescriptionStyleModel",
     "state": {
      "_model_module": "@jupyter-widgets/controls",
      "_model_module_version": "1.5.0",
      "_model_name": "DescriptionStyleModel",
      "_view_count": null,
      "_view_module": "@jupyter-widgets/base",
      "_view_module_version": "1.2.0",
      "_view_name": "StyleView",
      "description_width": ""
     }
    },
    "dc4cf8f3c08f4cbdb2755e8ef354a1ad": {
     "model_module": "@jupyter-widgets/base",
     "model_module_version": "1.2.0",
     "model_name": "LayoutModel",
     "state": {
      "_model_module": "@jupyter-widgets/base",
      "_model_module_version": "1.2.0",
      "_model_name": "LayoutModel",
      "_view_count": null,
      "_view_module": "@jupyter-widgets/base",
      "_view_module_version": "1.2.0",
      "_view_name": "LayoutView",
      "align_content": null,
      "align_items": null,
      "align_self": null,
      "border": null,
      "bottom": null,
      "display": null,
      "flex": null,
      "flex_flow": null,
      "grid_area": null,
      "grid_auto_columns": null,
      "grid_auto_flow": null,
      "grid_auto_rows": null,
      "grid_column": null,
      "grid_gap": null,
      "grid_row": null,
      "grid_template_areas": null,
      "grid_template_columns": null,
      "grid_template_rows": null,
      "height": null,
      "justify_content": null,
      "justify_items": null,
      "left": null,
      "margin": null,
      "max_height": null,
      "max_width": null,
      "min_height": null,
      "min_width": null,
      "object_fit": null,
      "object_position": null,
      "order": null,
      "overflow": null,
      "overflow_x": null,
      "overflow_y": null,
      "padding": null,
      "right": null,
      "top": null,
      "visibility": null,
      "width": null
     }
    },
    "e518b31cc18d4bcc93e2c1b24a885023": {
     "model_module": "@jupyter-widgets/controls",
     "model_module_version": "1.5.0",
     "model_name": "DescriptionStyleModel",
     "state": {
      "_model_module": "@jupyter-widgets/controls",
      "_model_module_version": "1.5.0",
      "_model_name": "DescriptionStyleModel",
      "_view_count": null,
      "_view_module": "@jupyter-widgets/base",
      "_view_module_version": "1.2.0",
      "_view_name": "StyleView",
      "description_width": ""
     }
    },
    "e7f31175b4964ad99c3a091aeb5d9e56": {
     "model_module": "@jupyter-widgets/controls",
     "model_module_version": "1.5.0",
     "model_name": "DescriptionStyleModel",
     "state": {
      "_model_module": "@jupyter-widgets/controls",
      "_model_module_version": "1.5.0",
      "_model_name": "DescriptionStyleModel",
      "_view_count": null,
      "_view_module": "@jupyter-widgets/base",
      "_view_module_version": "1.2.0",
      "_view_name": "StyleView",
      "description_width": ""
     }
    },
    "f5f7fa2f8eeb4f4f8cb15d74170f000a": {
     "model_module": "@jupyter-widgets/base",
     "model_module_version": "1.2.0",
     "model_name": "LayoutModel",
     "state": {
      "_model_module": "@jupyter-widgets/base",
      "_model_module_version": "1.2.0",
      "_model_name": "LayoutModel",
      "_view_count": null,
      "_view_module": "@jupyter-widgets/base",
      "_view_module_version": "1.2.0",
      "_view_name": "LayoutView",
      "align_content": null,
      "align_items": null,
      "align_self": null,
      "border": null,
      "bottom": null,
      "display": null,
      "flex": null,
      "flex_flow": null,
      "grid_area": null,
      "grid_auto_columns": null,
      "grid_auto_flow": null,
      "grid_auto_rows": null,
      "grid_column": null,
      "grid_gap": null,
      "grid_row": null,
      "grid_template_areas": null,
      "grid_template_columns": null,
      "grid_template_rows": null,
      "height": null,
      "justify_content": null,
      "justify_items": null,
      "left": null,
      "margin": null,
      "max_height": null,
      "max_width": null,
      "min_height": null,
      "min_width": null,
      "object_fit": null,
      "object_position": null,
      "order": null,
      "overflow": null,
      "overflow_x": null,
      "overflow_y": null,
      "padding": null,
      "right": null,
      "top": null,
      "visibility": null,
      "width": null
     }
    },
    "f94e9a8fec0a4bffbfc594eef4665c72": {
     "model_module": "@jupyter-widgets/controls",
     "model_module_version": "1.5.0",
     "model_name": "ProgressStyleModel",
     "state": {
      "_model_module": "@jupyter-widgets/controls",
      "_model_module_version": "1.5.0",
      "_model_name": "ProgressStyleModel",
      "_view_count": null,
      "_view_module": "@jupyter-widgets/base",
      "_view_module_version": "1.2.0",
      "_view_name": "StyleView",
      "bar_color": null,
      "description_width": ""
     }
    },
    "f97a104045dc43309d8ec4d77332f6d2": {
     "model_module": "@jupyter-widgets/controls",
     "model_module_version": "1.5.0",
     "model_name": "HTMLModel",
     "state": {
      "_dom_classes": [],
      "_model_module": "@jupyter-widgets/controls",
      "_model_module_version": "1.5.0",
      "_model_name": "HTMLModel",
      "_view_count": null,
      "_view_module": "@jupyter-widgets/controls",
      "_view_module_version": "1.5.0",
      "_view_name": "HTMLView",
      "description": "",
      "description_tooltip": null,
      "layout": "IPY_MODEL_dc4cf8f3c08f4cbdb2755e8ef354a1ad",
      "placeholder": "​",
      "style": "IPY_MODEL_cf0e69a9665c4a8ebb1fdfeb7cee9b44",
      "value": " 268M/268M [00:01&lt;00:00, 264MB/s]"
     }
    },
    "fd7a34b4e9584c728618985495d77830": {
     "model_module": "@jupyter-widgets/controls",
     "model_module_version": "1.5.0",
     "model_name": "FloatProgressModel",
     "state": {
      "_dom_classes": [],
      "_model_module": "@jupyter-widgets/controls",
      "_model_module_version": "1.5.0",
      "_model_name": "FloatProgressModel",
      "_view_count": null,
      "_view_module": "@jupyter-widgets/controls",
      "_view_module_version": "1.5.0",
      "_view_name": "ProgressView",
      "bar_style": "success",
      "description": "",
      "description_tooltip": null,
      "layout": "IPY_MODEL_9b41cf3e2bd14995918c38b5c1294339",
      "max": 231508,
      "min": 0,
      "orientation": "horizontal",
      "style": "IPY_MODEL_1120cd4ae587431da55a25aa67915eef",
      "value": 231508
     }
    },
    "fd96c819bc7b461e90ca561beab93ac4": {
     "model_module": "@jupyter-widgets/controls",
     "model_module_version": "1.5.0",
     "model_name": "HTMLModel",
     "state": {
      "_dom_classes": [],
      "_model_module": "@jupyter-widgets/controls",
      "_model_module_version": "1.5.0",
      "_model_name": "HTMLModel",
      "_view_count": null,
      "_view_module": "@jupyter-widgets/controls",
      "_view_module_version": "1.5.0",
      "_view_name": "HTMLView",
      "description": "",
      "description_tooltip": null,
      "layout": "IPY_MODEL_34b418cd504942ce9ec2a3baf5352109",
      "placeholder": "​",
      "style": "IPY_MODEL_e7f31175b4964ad99c3a091aeb5d9e56",
      "value": " 48.0/48.0 [00:00&lt;00:00, 3.27kB/s]"
     }
    }
   }
  }
 },
 "nbformat": 4,
 "nbformat_minor": 0
}
